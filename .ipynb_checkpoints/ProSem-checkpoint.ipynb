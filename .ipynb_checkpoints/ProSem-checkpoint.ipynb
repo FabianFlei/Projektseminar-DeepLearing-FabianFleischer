{
 "cells": [
  {
   "cell_type": "markdown",
   "id": "ce81fd24-9eba-4453-b670-a58c3fa6158d",
   "metadata": {},
   "source": [
    "# Travelling Salesman Problem"
   ]
  },
  {
   "cell_type": "markdown",
   "id": "488a37fb-bebd-4a88-87ea-f050726bdc37",
   "metadata": {},
   "source": [
    "### kombinatorisches Optimierungsproblem:\n",
    "* minimale Tour auf vollständigen Graph\n",
    "* TSP ist NP-vollständig\n",
    "* Es ist kein Polynomialzeit Algorithmus bekannt\n",
    "* $\\dfrac{(n-1)!}{2}$ verschiedene mögliche Touren (symmetrisches TSP)"
   ]
  },
  {
   "cell_type": "markdown",
   "id": "e50346ba-d4f2-45b7-9769-927369f8d47e",
   "metadata": {},
   "source": [
    "### Anwendungen:\n",
    "* Logistik\n",
    "* DNA Sequenzierung\n",
    "* Layout integrierter Schaltkreise\n",
    "* Bohrersteuerung bei Herstellung von Leiterplatten\n",
    "* Teleskop-Planung von Stern zu Stern"
   ]
  },
  {
   "cell_type": "markdown",
   "id": "690a20f4-1215-4166-9b56-3a0cfcec5acf",
   "metadata": {},
   "source": [
    "### exakte Verfahren\n",
    "\n",
    "| Typ | Algorithmus | Laufzeit |\n",
    "| :-- | :---------- | :------- |\n",
    "| vollständige Enumeration | | $$\\mathcal{O}\\left(n!\\right)$$ |\n",
    "| dynamische Programmierung | Held-Karp Algorithmus | $$\\mathcal{O}\\left(n^2 2^n\\right)$$ |\n",
    "| lineare Programmierung | Concorde und Gurobi | Concorde ist schnellster exakte TSP Solver für große TSP Instanzen |"
   ]
  },
  {
   "cell_type": "markdown",
   "id": "5e81acae-b7c6-4c02-a0cd-960a8f0f1c64",
   "metadata": {},
   "source": [
    "### Heuristiken\n",
    "\n",
    "| Typ | Algorithmus | Laufzeit | max. Abweichung vom Optimum |\n",
    "| :-- | :---------- | :------- | :-------------------------- |\n",
    "| Eröffnungsheuristik | Nearest Neighbor | $$\\mathcal{O}\\left(n^2\\right)$$ | beliebig groß |\n",
    "| Eröffnungsheuristik | MST-Heuristik | $$\\mathcal{O}\\left(n^2\\log(n)\\right)$$ | 2-Approx. für $\\Delta$-TSP |\n",
    "| Eröffnungsheuristik | Christofides-Heuristik | $$\\mathcal{O}\\left(n^3\\right)$$ | 1.5-Approx. für $\\Delta$-TSP |\n",
    "| Verbesserungsheuristik | k-Opt-Heuristik | $$\\mathcal{O}\\left(k!\\right)\\text{ pro Schritt}$$ | beliebig groß |\n",
    "| Metaheuristik | Ant Colony Optimization | | beliebig groß |\n",
    "| Metaheuristik | genetische Algorithmen | | beliebig groß |\n",
    "| Metaheuristik | lokale Suche | | beliebig groß |\n",
    "| Metaheuristik | neuronale Netze | | beliebig groß |"
   ]
  },
  {
   "cell_type": "markdown",
   "id": "ce5e5e54-3130-455e-ae81-0fc29916ef2b",
   "metadata": {},
   "source": [
    "### Neuronale Netze\n",
    "\n",
    "| Name | Beschreibung | Literatur |\n",
    "| :--- | :----------- | :-------- |\n",
    "| Hopfield Network | erstes NN entwickelt für kleine TSP Instanzen | [Hopfield & Tank, 1985](https://link.springer.com/article/10.1007/BF00339943) |\n",
    "| Pointer Network | Encoder-Decoder Model mit attention mechanism | [Vinyals et al., 2015](https://arxiv.org/abs/1506.03134)|\n",
    "| Pointer Network + RL | Reinforcement Learning für Training | [Bello & Pham, 2016](https://arxiv.org/abs/1611.09940) |\n",
    "| S2V-DQN | Graph Embedding Network (structure2vec) mit Reinforcement Learning (Deep Q-Learning Network) für Training | [Khalil et al., 2017](https://arxiv.org/abs/1704.01665)|\n",
    "| QAP | TSP als Quadratic Assignment Problem formuliert; Graph Neural Network mit supervised learning | [Nowak et al., 2017](https://arxiv.org/abs/1706.07450v1) |\n",
    "| Tranformer-encoder + RL + 2-Opt | Transformer als Encoder mit Reinforcement Learning (Actor-Critic) für Training und 2-Opt refinement | [Deudon et al., 2018](https://link.springer.com/chapter/10.1007/978-3-319-93031-2_12) |\n",
    "| Tranformer-encoder + Attention-decoder | | [Kool et al., 2019](https://arxiv.org/abs/1803.08475) |\n",
    "| CNN + RL | Convolutional Neural Network mit supervised learning und Reinforcement Learning für Good-Edge-Distribution | [Miki et al., 2019](https://ieeexplore.ieee.org/document/8659266) |\n",
    "| GraphConvNet | Graph Convolutional Network mit beam search | [Joshi et al., 2019](https://arxiv.org/abs/1906.01227) |\n",
    "| 2-Opt Learning + RL | transformer-based Network mit Reinforcement Learning (Actor-Critic) | [Wu et al., 2019](https://arxiv.org/abs/1912.05784) |\n",
    "| 2-Opt Learning + DRL | Policy Gradient Neural Architecture mit Deep Reinforcement Learning (Markov Decision Process) als Training | [Costa et al., 2020](https://arxiv.org/abs/2004.01608) |\n",
    "| PCN | Pixel-mapped Classification Network | [Miki & Ebara., 2020](https://ieeexplore.ieee.org/document/8995285)|\n",
    "| GNNs + MCTS | Graph Neural Network mit Monte Carlo Tree Search | [XIng & Tu, 2020](https://ieeexplore.ieee.org/document/9109309) |\n",
    "| CTAS | CNN | [Zhao et al., 2021](https://ieeexplore.ieee.org/document/9533538) |\n",
    "| end-to-end | end-to-end neural combinatorial optimization pipeline | [Joshi et al., 2021](https://arxiv.org/abs/2006.07054) + [Video](https://www.youtube.com/watch?v=IL-EfHR7gJE) |\n",
    "| Transformer Network + RL |  | [Bresson & Laurent, 2021](https://arxiv.org/abs/2103.03012) + [Video](https://www.youtube.com/watch?v=-WMHy0lAK3s) |"
   ]
  },
  {
   "cell_type": "markdown",
   "id": "3ba182dc-317d-4845-a9dd-fb9a184b559b",
   "metadata": {},
   "source": [
    "### Datensätze\n",
    "\n",
    "| Datensatz | Beschreibung | Literatur |\n",
    "| :-------- | :----------- | :-------- |\n",
    "| TSPGEN | zufällige Probleminstanzen generieren für Training | [Bossek et al., 2019](https://dl.acm.org/doi/abs/10.1145/3299904.3340307) |\n",
    "| TSPLIB | Benchmark Library mit schwierigen Probleminstanzen | [TSPLIB](http://comopt.ifi.uni-heidelberg.de/software/TSPLIB95/index.html) |"
   ]
  },
  {
   "cell_type": "markdown",
   "id": "df4b5f55-ec9f-4854-8931-aa77e8f62012",
   "metadata": {},
   "source": [
    "### Supervised Learning (SL) vs Reinforcement Learning (RL)\n",
    "\n",
    "| Supervised Learning | Reinforcement Learning |\n",
    "| :------------------ | :--------------------- | \n",
    "| - benötigt Probleminstanz und optimale Lösung | + benötigt nicht die optimale Lösung |\n",
    "| - Datensätze nur für kleine Probleminstanzen möglich | + Datensätze mit größeren Probleminstanzen möglich |\n",
    "| + sample efficient | - weniger sample efficent als SL |\n",
    "| | - mehr Compute-Aufwand als SL |"
   ]
  },
  {
   "cell_type": "code",
   "execution_count": null,
   "id": "cade8daa-07d8-4d07-ba29-92940d164f33",
   "metadata": {},
   "outputs": [],
   "source": []
  }
 ],
 "metadata": {
  "kernelspec": {
   "display_name": "Python 3 (ipykernel)",
   "language": "python",
   "name": "python3"
  },
  "language_info": {
   "codemirror_mode": {
    "name": "ipython",
    "version": 3
   },
   "file_extension": ".py",
   "mimetype": "text/x-python",
   "name": "python",
   "nbconvert_exporter": "python",
   "pygments_lexer": "ipython3",
   "version": "3.9.12"
  }
 },
 "nbformat": 4,
 "nbformat_minor": 5
}
